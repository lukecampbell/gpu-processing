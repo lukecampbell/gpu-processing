{
 "metadata": {
  "name": ""
 },
 "nbformat": 3,
 "nbformat_minor": 0,
 "worksheets": [
  {
   "cells": [
    {
     "cell_type": "code",
     "collapsed": false,
     "input": [
      "import pyopencl as cl\n",
      "import numpy as np\n",
      "import time\n",
      "\n",
      "\n",
      "# Read the kernel code from kernel.cl\n",
      "kernel_code = open('../src/blerp.cl').read()\n",
      "\n",
      "# Get the platform, 0 should be THIS mac\n",
      "platform = cl.get_platforms()[0]\n",
      "\n",
      "# Make some data\n",
      "h_X = np.arange(10, dtype=np.float32)\n",
      "h_Y = np.arange(10, dtype=np.float32)\n",
      "\n",
      "def f(x,y):\n",
      "    return x**2 + y\n",
      "\n",
      "xx, yy = np.meshgrid(h_X, h_Y)\n",
      "h_Z = f(xx, yy)\n",
      "\n",
      "h_x = np.array([12, 13])\n",
      "h_y = np.array([12, 13])\n",
      "h_z = np.empty((h_x.shape[0], h_y.shape[0]), dtype=np.float32)"
     ],
     "language": "python",
     "metadata": {},
     "outputs": [],
     "prompt_number": 23
    },
    {
     "cell_type": "code",
     "collapsed": false,
     "input": [
      "device_id = 1\n",
      "\n",
      "# device[0] = CPU\n",
      "# device[1] = GPU\n",
      "device = platform.get_devices()[device_id] # Get the GPU not the CPU\n",
      "\n",
      "# Grab the context so that we can actually use the OpenCL library (like GL)\n",
      "ctx = cl.Context([device])\n",
      "\n",
      "mf = cl.mem_flags\n",
      "# Copy host memory from h_x and h_y to device buffers d_x and d_y\n",
      "\n",
      "\n",
      "d_X = cl.Buffer(ctx, mf.READ_ONLY | mf.COPY_HOST_PTR, hostbuf=h_X)\n",
      "d_Y = cl.Buffer(ctx, mf.READ_ONLY | mf.COPY_HOST_PTR, hostbuf=h_Y)\n",
      "d_Z = cl.Buffer(ctx, mf.READ_ONLY | mf.COPY_HOST_PTR, hostbuf=h_Z)\n",
      "d_x = cl.Buffer(ctx, mf.READ_ONLY | mf.COPY_HOST_PTR, hostbuf=h_x)\n",
      "d_y = cl.Buffer(ctx, mf.READ_ONLY | mf.COPY_HOST_PTR, hostbuf=h_y)\n",
      "\n",
      "# Make two buffers for our output xp and yp\n",
      "d_z = cl.Buffer(ctx, mf.WRITE_ONLY, h_z.nbytes)\n",
      "\n",
      "# Make a command queue\n",
      "queue = cl.CommandQueue(ctx)\n",
      "prg = cl.Program(ctx, kernel_code).build()\n",
      "# Kernel Args\n",
      "# N/A\n",
      "event = prg.blerp(queue, h_z.shape, None, np.uint32(h_X.shape[0]), np.uint32(h_Y.shape[0]), d_X, d_Y, d_Z, d_x, d_y, d_z)\n",
      "event.wait()\n",
      "\n",
      "# Copy the values from the device buffer d_xp to h_xp, the host \n",
      "cl.enqueue_copy(queue, h_z, d_z)\n",
      "print h_z"
     ],
     "language": "python",
     "metadata": {},
     "outputs": [
      {
       "output_type": "stream",
       "stream": "stdout",
       "text": [
        "[[ 2.  3.]\n",
        " [ 0.  0.]]\n"
       ]
      }
     ],
     "prompt_number": 24
    },
    {
     "cell_type": "code",
     "collapsed": false,
     "input": [],
     "language": "python",
     "metadata": {},
     "outputs": []
    }
   ],
   "metadata": {}
  }
 ]
}